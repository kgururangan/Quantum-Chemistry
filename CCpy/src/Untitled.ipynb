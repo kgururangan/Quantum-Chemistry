{
 "cells": [
  {
   "cell_type": "code",
   "execution_count": 1,
   "metadata": {},
   "outputs": [],
   "source": [
    "import numpy as np"
   ]
  },
  {
   "cell_type": "code",
   "execution_count": 2,
   "metadata": {},
   "outputs": [],
   "source": [
    "nu = 20\n",
    "no = 5"
   ]
  },
  {
   "cell_type": "code",
   "execution_count": 5,
   "metadata": {},
   "outputs": [],
   "source": [
    "vA = np.random.rand(no,no,nu,nu)\n",
    "t2a = np.random.rand(nu,nu,no,no)"
   ]
  },
  {
   "cell_type": "code",
   "execution_count": 7,
   "metadata": {},
   "outputs": [],
   "source": [
    "d3A_V = lambda a,i,b: -np.dot(np.squeeze(vA[i,:,a,b]).T,np.squeeze(t2a[a,b,i,:]))"
   ]
  },
  {
   "cell_type": "code",
   "execution_count": 9,
   "metadata": {},
   "outputs": [],
   "source": [
    "D3A_V = np.zeros((nu,no,nu))\n",
    "for a in range(nu):\n",
    "    for i in range(no):\n",
    "        for b in range(nu):\n",
    "            D3A_V[a,i,b] = d3A_V(a,i,b)"
   ]
  },
  {
   "cell_type": "code",
   "execution_count": 2,
   "metadata": {},
   "outputs": [],
   "source": [
    "from numba import jit\n",
    "import time"
   ]
  },
  {
   "cell_type": "code",
   "execution_count": 14,
   "metadata": {},
   "outputs": [],
   "source": [
    "n = 20\n",
    "A = np.random.rand(n,n,n,n)\n",
    "B = np.random.rand(n,n,n,n)\n",
    "\n",
    "def code(A,B):\n",
    "    return np.einsum('abef,efij->abij',A,B,optimize=True)"
   ]
  },
  {
   "cell_type": "code",
   "execution_count": 18,
   "metadata": {},
   "outputs": [],
   "source": [
    "@jit(nopython=True,fastmath=True)\n",
    "def numba_code(A,B):\n",
    "    C = np.zeros((n,n,n,n))\n",
    "    for a in range(n):\n",
    "        for b in range(n):\n",
    "            for i in range(n):\n",
    "                for j in range(n):\n",
    "                    tmp = 0.0\n",
    "                    for e in range(n):\n",
    "                        for f in range(n):\n",
    "                            tmp += A[a,b,e,f]*B[e,f,i,j]\n",
    "                    C[a,b,i,j] = tmp\n",
    "    return C"
   ]
  },
  {
   "cell_type": "code",
   "execution_count": 19,
   "metadata": {},
   "outputs": [
    {
     "name": "stdout",
     "output_type": "stream",
     "text": [
      "Elapsed (einsum) = 0.00673985481262207\n"
     ]
    }
   ],
   "source": [
    "start = time.time()\n",
    "code(A,B)\n",
    "end = time.time()\n",
    "print(\"Elapsed (einsum) = %s\" % (end - start))"
   ]
  },
  {
   "cell_type": "code",
   "execution_count": 20,
   "metadata": {},
   "outputs": [
    {
     "name": "stdout",
     "output_type": "stream",
     "text": [
      "Elapsed (with compilation) = 0.4913060665130615\n",
      "Elapsed (after compilation) = 0.07520389556884766\n"
     ]
    }
   ],
   "source": [
    "# DO NOT REPORT THIS... COMPILATION TIME IS INCLUDED IN THE EXECUTION TIME!\n",
    "start = time.time()\n",
    "numba_code(A,B)\n",
    "end = time.time()\n",
    "print(\"Elapsed (with compilation) = %s\" % (end - start))\n",
    "\n",
    "# NOW THE FUNCTION IS COMPILED, RE-TIME IT EXECUTING FROM CACHE\n",
    "start = time.time()\n",
    "numba_code(A,B)\n",
    "end = time.time()\n",
    "print(\"Elapsed (after compilation) = %s\" % (end - start))"
   ]
  },
  {
   "cell_type": "code",
   "execution_count": null,
   "metadata": {},
   "outputs": [],
   "source": []
  }
 ],
 "metadata": {
  "kernelspec": {
   "display_name": "Python 3",
   "language": "python",
   "name": "python3"
  },
  "language_info": {
   "codemirror_mode": {
    "name": "ipython",
    "version": 3
   },
   "file_extension": ".py",
   "mimetype": "text/x-python",
   "name": "python",
   "nbconvert_exporter": "python",
   "pygments_lexer": "ipython3",
   "version": "3.8.5"
  }
 },
 "nbformat": 4,
 "nbformat_minor": 4
}
